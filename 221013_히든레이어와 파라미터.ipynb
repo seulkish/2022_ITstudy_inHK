{
 "cells": [
  {
   "cell_type": "code",
   "execution_count": 2,
   "metadata": {},
   "outputs": [],
   "source": [
    "import numpy as np\n",
    "import tensorflow as tf\n",
    "from tensorflow import keras\n",
    "from tensorflow.keras import layers"
   ]
  },
  {
   "cell_type": "code",
   "execution_count": 3,
   "metadata": {},
   "outputs": [],
   "source": [
    "x=np.array([1,2,3,4,5,6])\n",
    "y=np.array([10,98,8,2,3,4])"
   ]
  },
  {
   "cell_type": "code",
   "execution_count": 4,
   "metadata": {},
   "outputs": [],
   "source": [
    "# w값 바꾸지 않기 위해 사용함,검증용이며 실제에서는 seed 하지 않음.\n",
    "tf.random.set_seed(1234)\n",
    "\n",
    "input_layer = tf.keras.layers.InputLayer(input_shape=(1,))\n",
    "hidden_layer1 = tf.keras.layers.Dense(units=4, activation='relu')\n",
    "hidden_layer2 = tf.keras.layers.Dense(units=2, activation='relu')\n",
    "output_layer= tf.keras.layers.Dense(units=1)\n",
    "# activation이 없으면 활성화함수 wx+b가 되어있는 것임.\n",
    "model = keras.Sequential([\n",
    "input_layer,\n",
    "hidden_layer1,\n",
    "hidden_layer2,\n",
    "output_layer\n",
    "])"
   ]
  },
  {
   "cell_type": "code",
   "execution_count": 5,
   "metadata": {},
   "outputs": [
    {
     "name": "stdout",
     "output_type": "stream",
     "text": [
      "Model: \"sequential\"\n",
      "_________________________________________________________________\n",
      " Layer (type)                Output Shape              Param #   \n",
      "=================================================================\n",
      " dense (Dense)               (None, 4)                 8         \n",
      "                                                                 \n",
      " dense_1 (Dense)             (None, 2)                 10        \n",
      "                                                                 \n",
      " dense_2 (Dense)             (None, 1)                 3         \n",
      "                                                                 \n",
      "=================================================================\n",
      "Total params: 21\n",
      "Trainable params: 21\n",
      "Non-trainable params: 0\n",
      "_________________________________________________________________\n"
     ]
    }
   ],
   "source": [
    "model.summary()"
   ]
  },
  {
   "cell_type": "code",
   "execution_count": 6,
   "metadata": {},
   "outputs": [
    {
     "data": {
      "text/plain": [
       "[<tf.Variable 'dense/kernel:0' shape=(1, 4) dtype=float32, numpy=\n",
       " array([[ 0.29251337,  0.75989187, -0.26571786, -0.7405858 ]],\n",
       "       dtype=float32)>,\n",
       " <tf.Variable 'dense/bias:0' shape=(4,) dtype=float32, numpy=array([0., 0., 0., 0.], dtype=float32)>,\n",
       " <tf.Variable 'dense_1/kernel:0' shape=(4, 2) dtype=float32, numpy=\n",
       " array([[-0.8654773 , -0.49548578],\n",
       "        [ 0.1983645 , -0.8919594 ],\n",
       "        [ 0.9163494 , -0.80768967],\n",
       "        [ 0.64525056, -0.48727846]], dtype=float32)>,\n",
       " <tf.Variable 'dense_1/bias:0' shape=(2,) dtype=float32, numpy=array([0., 0.], dtype=float32)>,\n",
       " <tf.Variable 'dense_2/kernel:0' shape=(2, 1) dtype=float32, numpy=\n",
       " array([[-1.355187 ],\n",
       "        [ 1.2045029]], dtype=float32)>,\n",
       " <tf.Variable 'dense_2/bias:0' shape=(1,) dtype=float32, numpy=array([0.], dtype=float32)>]"
      ]
     },
     "execution_count": 6,
     "metadata": {},
     "output_type": "execute_result"
    }
   ],
   "source": [
    "model.weights"
   ]
  },
  {
   "cell_type": "code",
   "execution_count": 12,
   "metadata": {},
   "outputs": [
    {
     "data": {
      "text/plain": [
       "<tf.Tensor: shape=(6, 4), dtype=float32, numpy=\n",
       "array([[0.29251337, 0.75989187, 0.        , 0.        ],\n",
       "       [0.58502674, 1.5197837 , 0.        , 0.        ],\n",
       "       [0.8775401 , 2.2796755 , 0.        , 0.        ],\n",
       "       [1.1700535 , 3.0395675 , 0.        , 0.        ],\n",
       "       [1.4625669 , 3.7994595 , 0.        , 0.        ],\n",
       "       [1.7550802 , 4.559351  , 0.        , 0.        ]], dtype=float32)>"
      ]
     },
     "execution_count": 12,
     "metadata": {},
     "output_type": "execute_result"
    }
   ],
   "source": [
    "tmp=tf.keras.Model(inputs=model.input,outputs=model.layers[0].output)\n",
    "tmp(x)"
   ]
  },
  {
   "cell_type": "code",
   "execution_count": null,
   "metadata": {},
   "outputs": [],
   "source": []
  }
 ],
 "metadata": {
  "kernelspec": {
   "display_name": "Python 3.10.4 ('han')",
   "language": "python",
   "name": "python3"
  },
  "language_info": {
   "codemirror_mode": {
    "name": "ipython",
    "version": 3
   },
   "file_extension": ".py",
   "mimetype": "text/x-python",
   "name": "python",
   "nbconvert_exporter": "python",
   "pygments_lexer": "ipython3",
   "version": "3.10.4"
  },
  "orig_nbformat": 4,
  "vscode": {
   "interpreter": {
    "hash": "9ffd841040af6bedd50cabf1584399d13f777232c008d7c4ad470663779a547a"
   }
  }
 },
 "nbformat": 4,
 "nbformat_minor": 2
}
